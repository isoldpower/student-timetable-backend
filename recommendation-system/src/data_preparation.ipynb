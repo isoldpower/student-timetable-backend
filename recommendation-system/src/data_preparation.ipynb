{
 "cells": [
  {
   "cell_type": "code",
   "execution_count": 1,
   "id": "7f9c62be-6ccc-4983-a472-726adebf2c88",
   "metadata": {},
   "outputs": [],
   "source": [
    "%load_ext autoreload\n",
    "%autoreload 2"
   ]
  },
  {
   "cell_type": "code",
   "execution_count": 9,
   "id": "4ed44c46-0fce-4f81-bd63-6b245a309db6",
   "metadata": {},
   "outputs": [],
   "source": [
    "import pandas as pd\n",
    "import numpy as np\n",
    "import nltk\n",
    "import gensim\n",
    "\n",
    "from nltk.corpus import stopwords\n",
    "from nltk.stem import WordNetLemmatizer"
   ]
  },
  {
   "cell_type": "code",
   "execution_count": null,
   "id": "e069464b-620f-44a0-8c03-302fe60922c0",
   "metadata": {
    "scrolled": true
   },
   "outputs": [],
   "source": [
    "from bs4 import BeautifulSoup\n",
    "import requests\n",
    "\n",
    "url_base = 'https://www.webster.edu'\n",
    "html = requests.get(f'{url_base}/catalog/current/undergraduate-catalog/courses/index.html').text\n",
    "soup = BeautifulSoup(html, 'lxml')\n",
    "links_class = 'container content2Cols'\n",
    "links = soup.find_all('div', {'class': links_class})\n",
    "\n",
    "courses_links = []\n",
    "for link in links:\n",
    "    courses_links.extend([item.get('href') for item in link.find_all('a')])\n",
    "\n",
    "for i, link in enumerate(courses_links):\n",
    "    courses_links[i] = f'{url_base}{link}'\n",
    "\n",
    "final = []\n",
    "for link in courses_links:\n",
    "    html = requests.get(link).text\n",
    "    soup = BeautifulSoup(html, 'html.parser')\n",
    "    body = soup.find_all('div', {'class': 'bodyCopy'})[0]\n",
    "    titles = body.find_all('h3')\n",
    "    paragraphs = soup.find_all('p')[3:]\n",
    "    print(titles[0])\n",
    "\n",
    "    for i, title in enumerate(titles):\n",
    "        actual_title = title.get_text()\n",
    "        actual_paragraph = paragraphs[i].get_text()\n",
    "        final.append((actual_title, actual_paragraph))"
   ]
  },
  {
   "cell_type": "code",
   "execution_count": null,
   "id": "daccb464-b27c-485c-b726-ed2087c0af0a",
   "metadata": {},
   "outputs": [],
   "source": [
    "df = pd.DataFrame(final, columns=['course_id', 'description'])"
   ]
  },
  {
   "cell_type": "code",
   "execution_count": null,
   "id": "e92490fc-ed21-48ad-8c45-920b989853a4",
   "metadata": {},
   "outputs": [],
   "source": [
    "df"
   ]
  },
  {
   "cell_type": "code",
   "execution_count": null,
   "id": "cab8153f-b565-4706-aaf9-2b2df23471e1",
   "metadata": {},
   "outputs": [],
   "source": [
    "df.to_parquet('../data/courses.parquet')"
   ]
  },
  {
   "cell_type": "markdown",
   "id": "d893a428-f50d-4398-8dbc-0285de3d92e9",
   "metadata": {},
   "source": [
    "### Tokenizing course descriptions"
   ]
  },
  {
   "cell_type": "code",
   "execution_count": 5,
   "id": "fe0705f1-7ec7-4c35-a869-cd832aed074a",
   "metadata": {},
   "outputs": [],
   "source": [
    "def tokenize_description(tokenizer: nltk.TreebankWordTokenizer, desc: str) -> str:\n",
    "    return tokenizer.tokenize(desc)\n",
    "\n",
    "tokenizer = nltk.TreebankWordTokenizer()\n",
    "tokens = [tokenize_description(tokenizer, df.iloc[i]['description']) for i in range(df.shape[0])]\n",
    "df['token_desc'] = tokens"
   ]
  },
  {
   "cell_type": "markdown",
   "id": "6bc30ac4-51dc-42a9-a466-0fd4a8b4f924",
   "metadata": {},
   "source": [
    "### Removing stopwords from course descriptions"
   ]
  },
  {
   "cell_type": "code",
   "execution_count": 6,
   "id": "d6ee5d59-ac43-45bb-9bb2-285b3b810fe1",
   "metadata": {
    "scrolled": true
   },
   "outputs": [],
   "source": [
    "def remove_stopwords(tokens: list) -> list:\n",
    "    return [token for token in tokens if token not in stopwords.words('english')]\n",
    "\n",
    "df['token_desc'] = df['token_desc'].apply(remove_stopwords)"
   ]
  },
  {
   "cell_type": "markdown",
   "id": "80d0b7ef-e225-4126-99a6-8bbb2a00981f",
   "metadata": {},
   "source": [
    "### Lemmatize tokens in description"
   ]
  },
  {
   "cell_type": "code",
   "execution_count": 11,
   "id": "c564707a-1987-47bc-bb61-6eea9dff6b2a",
   "metadata": {},
   "outputs": [],
   "source": [
    "lemmatizer = WordNetLemmatizer()\n",
    "\n",
    "def lemmatize_tokens(tokens: list) -> list:\n",
    "    return [lemmatizer.lemmatize(token) for token in tokens]\n",
    "\n",
    "df['token_desc'] = df['token_desc'].apply(lemmatize_tokens)"
   ]
  },
  {
   "cell_type": "code",
   "execution_count": 12,
   "id": "b2ed0424-7542-4220-a15c-20f836076d0f",
   "metadata": {},
   "outputs": [
    {
     "data": {
      "text/html": [
       "<div>\n",
       "<style scoped>\n",
       "    .dataframe tbody tr th:only-of-type {\n",
       "        vertical-align: middle;\n",
       "    }\n",
       "\n",
       "    .dataframe tbody tr th {\n",
       "        vertical-align: top;\n",
       "    }\n",
       "\n",
       "    .dataframe thead th {\n",
       "        text-align: right;\n",
       "    }\n",
       "</style>\n",
       "<table border=\"1\" class=\"dataframe\">\n",
       "  <thead>\n",
       "    <tr style=\"text-align: right;\">\n",
       "      <th></th>\n",
       "      <th>course_id</th>\n",
       "      <th>description</th>\n",
       "      <th>token_desc</th>\n",
       "    </tr>\n",
       "  </thead>\n",
       "  <tbody>\n",
       "    <tr>\n",
       "      <th>0</th>\n",
       "      <td>ACCT 2010 Financial Accounting (3)</td>\n",
       "      <td></td>\n",
       "      <td>[]</td>\n",
       "    </tr>\n",
       "    <tr>\n",
       "      <th>1</th>\n",
       "      <td>ACCT 2025 Managerial Accounting (3)</td>\n",
       "      <td>Introduces accounting with an emphasis on syst...</td>\n",
       "      <td>[Introduces, accounting, emphasis, systemic, t...</td>\n",
       "    </tr>\n",
       "    <tr>\n",
       "      <th>2</th>\n",
       "      <td>ACCT 3025 Advanced Managerial and Cost Accoun...</td>\n",
       "      <td>Managerial Accounting emphasizes the use of ac...</td>\n",
       "      <td>[Managerial, Accounting, emphasizes, use, acco...</td>\n",
       "    </tr>\n",
       "    <tr>\n",
       "      <th>3</th>\n",
       "      <td>ACCT 3030 Intermediate Accounting I (3)</td>\n",
       "      <td>Expands on topics developed in Managerial Acco...</td>\n",
       "      <td>[Expands, topic, developed, Managerial, Accoun...</td>\n",
       "    </tr>\n",
       "    <tr>\n",
       "      <th>4</th>\n",
       "      <td>ACCT 3040 Intermediate Accounting II (3)</td>\n",
       "      <td>Covers theoretical foundations of accounting w...</td>\n",
       "      <td>[Covers, theoretical, foundation, accounting, ...</td>\n",
       "    </tr>\n",
       "    <tr>\n",
       "      <th>...</th>\n",
       "      <td>...</td>\n",
       "      <td>...</td>\n",
       "      <td>...</td>\n",
       "    </tr>\n",
       "    <tr>\n",
       "      <th>1900</th>\n",
       "      <td>WRIT 3400 Editing and Style (3)</td>\n",
       "      <td>Students will learn to find, evaluate and pres...</td>\n",
       "      <td>[Students, learn, find, ,, evaluate, present, ...</td>\n",
       "    </tr>\n",
       "    <tr>\n",
       "      <th>1901</th>\n",
       "      <td>WRIT 4000 Topics in Professional Writing (3)</td>\n",
       "      <td>This course directs students' attention to the...</td>\n",
       "      <td>[This, course, directs, student, ', attention,...</td>\n",
       "    </tr>\n",
       "    <tr>\n",
       "      <th>1902</th>\n",
       "      <td>WSBT 2000 Career Exploration (1)</td>\n",
       "      <td></td>\n",
       "      <td>[]</td>\n",
       "    </tr>\n",
       "    <tr>\n",
       "      <th>1903</th>\n",
       "      <td>WSBT 2300 Personal Branding (1)</td>\n",
       "      <td>This course is the first of three courses desi...</td>\n",
       "      <td>[This, course, first, three, course, designed,...</td>\n",
       "    </tr>\n",
       "    <tr>\n",
       "      <th>1904</th>\n",
       "      <td>WSBT 2700 Career Management Strategies (1)</td>\n",
       "      <td>This course is the second of a three course se...</td>\n",
       "      <td>[This, course, second, three, course, series, ...</td>\n",
       "    </tr>\n",
       "  </tbody>\n",
       "</table>\n",
       "<p>1905 rows × 3 columns</p>\n",
       "</div>"
      ],
      "text/plain": [
       "                                              course_id  \\\n",
       "0                    ACCT 2010 Financial Accounting (3)   \n",
       "1                   ACCT 2025 Managerial Accounting (3)   \n",
       "2      ACCT 3025 Advanced Managerial and Cost Accoun...   \n",
       "3               ACCT 3030 Intermediate Accounting I (3)   \n",
       "4              ACCT 3040 Intermediate Accounting II (3)   \n",
       "...                                                 ...   \n",
       "1900                    WRIT 3400 Editing and Style (3)   \n",
       "1901       WRIT 4000 Topics in Professional Writing (3)   \n",
       "1902                   WSBT 2000 Career Exploration (1)   \n",
       "1903                    WSBT 2300 Personal Branding (1)   \n",
       "1904         WSBT 2700 Career Management Strategies (1)   \n",
       "\n",
       "                                            description  \\\n",
       "0                                                         \n",
       "1     Introduces accounting with an emphasis on syst...   \n",
       "2     Managerial Accounting emphasizes the use of ac...   \n",
       "3     Expands on topics developed in Managerial Acco...   \n",
       "4     Covers theoretical foundations of accounting w...   \n",
       "...                                                 ...   \n",
       "1900  Students will learn to find, evaluate and pres...   \n",
       "1901  This course directs students' attention to the...   \n",
       "1902                                                      \n",
       "1903  This course is the first of three courses desi...   \n",
       "1904  This course is the second of a three course se...   \n",
       "\n",
       "                                             token_desc  \n",
       "0                                                    []  \n",
       "1     [Introduces, accounting, emphasis, systemic, t...  \n",
       "2     [Managerial, Accounting, emphasizes, use, acco...  \n",
       "3     [Expands, topic, developed, Managerial, Accoun...  \n",
       "4     [Covers, theoretical, foundation, accounting, ...  \n",
       "...                                                 ...  \n",
       "1900  [Students, learn, find, ,, evaluate, present, ...  \n",
       "1901  [This, course, directs, student, ', attention,...  \n",
       "1902                                                 []  \n",
       "1903  [This, course, first, three, course, designed,...  \n",
       "1904  [This, course, second, three, course, series, ...  \n",
       "\n",
       "[1905 rows x 3 columns]"
      ]
     },
     "execution_count": 12,
     "metadata": {},
     "output_type": "execute_result"
    }
   ],
   "source": [
    "df"
   ]
  },
  {
   "cell_type": "markdown",
   "id": "c4da4dd8-96a8-440d-a592-1537c2c75c01",
   "metadata": {},
   "source": [
    "### Initialize word2vec model from Google binaries"
   ]
  },
  {
   "cell_type": "code",
   "execution_count": 22,
   "id": "5a1df12d-2d76-4c9c-a60c-af0508262d57",
   "metadata": {},
   "outputs": [],
   "source": [
    "model = gensim.models.KeyedVectors.load_word2vec_format('../data/GoogleNews-vectors-negative300.bin', binary=True)"
   ]
  },
  {
   "cell_type": "markdown",
   "id": "de827863-670f-4399-959a-58f2d19ee19d",
   "metadata": {},
   "source": [
    "### Leave only tokens which are present in a model vocab"
   ]
  },
  {
   "cell_type": "code",
   "execution_count": 23,
   "id": "b426edb1-67d6-45fe-b750-35b288f6d8b2",
   "metadata": {},
   "outputs": [],
   "source": [
    "def get_present_vocab(tokens):\n",
    "    return [token for token in tokens if token in model.index_to_key]\n",
    "\n",
    "\n",
    "df['previous_tokens'] = df['token_desc'].apply(len)\n",
    "df['token_desc'] = df['token_desc'].apply(get_present_vocab)"
   ]
  },
  {
   "cell_type": "markdown",
   "id": "9f213e47-5b2f-46f8-8ea4-274b9cbc466a",
   "metadata": {},
   "source": [
    "### Check how many words we trimmed and drop NaN from zero divison, we do not need empty descriptions"
   ]
  },
  {
   "cell_type": "code",
   "execution_count": 24,
   "id": "3e744576-90b0-4adf-ac03-379aae3aa062",
   "metadata": {},
   "outputs": [
    {
     "name": "stderr",
     "output_type": "stream",
     "text": [
      "/var/folders/1s/tsdn68ps7_sc32ggkmy293y80000gn/T/ipykernel_43398/2647164486.py:1: RuntimeWarning: invalid value encountered in scalar divide\n",
      "  df['tokens_share'] = [len(df['token_desc'].iloc[i]) / df['previous_tokens'].iloc[i] for i in range(len(df))]\n"
     ]
    }
   ],
   "source": [
    "df['tokens_share'] = [len(df['token_desc'].iloc[i]) / df['previous_tokens'].iloc[i] for i in range(len(df))]\n",
    "df = df.dropna()"
   ]
  },
  {
   "cell_type": "markdown",
   "id": "5bce415b-cd98-43df-9d25-58c45da48471",
   "metadata": {},
   "source": [
    "## Save Aggregate"
   ]
  },
  {
   "cell_type": "code",
   "execution_count": 26,
   "id": "62daf69f-501d-41fb-8779-947aba32f13b",
   "metadata": {},
   "outputs": [],
   "source": [
    "df.to_parquet('../data/courses_preprocessed.parquet')"
   ]
  },
  {
   "cell_type": "code",
   "execution_count": null,
   "id": "4a0d8e57-3d3d-4896-b9e2-f154fc3ae60a",
   "metadata": {},
   "outputs": [],
   "source": []
  }
 ],
 "metadata": {
  "kernelspec": {
   "display_name": "student-recommendations",
   "language": "python",
   "name": "student-recommendations"
  },
  "language_info": {
   "codemirror_mode": {
    "name": "ipython",
    "version": 3
   },
   "file_extension": ".py",
   "mimetype": "text/x-python",
   "name": "python",
   "nbconvert_exporter": "python",
   "pygments_lexer": "ipython3",
   "version": "3.12.7"
  }
 },
 "nbformat": 4,
 "nbformat_minor": 5
}
